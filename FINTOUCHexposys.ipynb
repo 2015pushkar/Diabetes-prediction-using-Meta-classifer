{
  "nbformat": 4,
  "nbformat_minor": 0,
  "metadata": {
    "colab": {
      "name": "FINTOUCHexposys.ipynb",
      "provenance": [],
      "collapsed_sections": []
    },
    "kernelspec": {
      "display_name": "Python 3",
      "name": "python3"
    },
    "language_info": {
      "name": "python"
    }
  },
  "cells": [
    {
      "cell_type": "code",
      "metadata": {
        "id": "4l5kARkLpoJM",
        "colab": {
          "base_uri": "https://localhost:8080/"
        },
        "outputId": "b9c0406a-ebad-4d65-e196-d3fc35b5d5cd"
      },
      "source": [
        "import numpy as np\n",
        "import warnings\n",
        "from mlxtend.classifier import StackingClassifier\n",
        "from sklearn import datasets\n",
        "from sklearn import model_selection\n",
        "from sklearn.ensemble import RandomForestClassifier\n",
        "from sklearn.linear_model import LogisticRegression\n",
        "from sklearn.naive_bayes import GaussianNB \n",
        "from sklearn.neighbors import KNeighborsClassifier\n",
        "import pandas as pd\n",
        "from sklearn.preprocessing import LabelEncoder\n",
        "from sklearn.neural_network import MLPClassifier\n",
        "from sklearn.tree import DecisionTreeClassifier\n",
        "from sklearn.ensemble import AdaBoostClassifier\n",
        "from sklearn.linear_model import LogisticRegression\n",
        "import matplotlib.pyplot as plt\n",
        "import xgboost\n",
        "from xgboost import XGBClassifier\n",
        "import lightgbm\n",
        "from lightgbm import LGBMClassifier\n",
        "from sklearn.model_selection import GridSearchCV"
      ],
      "execution_count": null,
      "outputs": [
        {
          "output_type": "stream",
          "text": [
            "/usr/local/lib/python3.7/dist-packages/sklearn/externals/six.py:31: FutureWarning: The module is deprecated in version 0.21 and will be removed in version 0.23 since we've dropped support for Python 2.7. Please rely on the official version of six (https://pypi.org/project/six/).\n",
            "  \"(https://pypi.org/project/six/).\", FutureWarning)\n"
          ],
          "name": "stderr"
        }
      ]
    },
    {
      "cell_type": "code",
      "metadata": {
        "id": "lIjsjSnjp3xO"
      },
      "source": [
        "df = pd.read_csv(\"/content/Dataset of Diabetes (1).csv\")"
      ],
      "execution_count": null,
      "outputs": []
    },
    {
      "cell_type": "code",
      "metadata": {
        "colab": {
          "base_uri": "https://localhost:8080/",
          "height": 415
        },
        "id": "dHaPde5hqEwZ",
        "outputId": "ce6e24e0-4cc3-4c01-e435-57cbfc9eb8a2"
      },
      "source": [
        "df"
      ],
      "execution_count": null,
      "outputs": [
        {
          "output_type": "execute_result",
          "data": {
            "text/html": [
              "<div>\n",
              "<style scoped>\n",
              "    .dataframe tbody tr th:only-of-type {\n",
              "        vertical-align: middle;\n",
              "    }\n",
              "\n",
              "    .dataframe tbody tr th {\n",
              "        vertical-align: top;\n",
              "    }\n",
              "\n",
              "    .dataframe thead th {\n",
              "        text-align: right;\n",
              "    }\n",
              "</style>\n",
              "<table border=\"1\" class=\"dataframe\">\n",
              "  <thead>\n",
              "    <tr style=\"text-align: right;\">\n",
              "      <th></th>\n",
              "      <th>ID</th>\n",
              "      <th>No_Pation</th>\n",
              "      <th>Gender</th>\n",
              "      <th>AGE</th>\n",
              "      <th>Urea</th>\n",
              "      <th>Cr</th>\n",
              "      <th>HbA1c</th>\n",
              "      <th>Chol</th>\n",
              "      <th>TG</th>\n",
              "      <th>HDL</th>\n",
              "      <th>LDL</th>\n",
              "      <th>VLDL</th>\n",
              "      <th>BMI</th>\n",
              "      <th>CLASS</th>\n",
              "    </tr>\n",
              "  </thead>\n",
              "  <tbody>\n",
              "    <tr>\n",
              "      <th>0</th>\n",
              "      <td>502</td>\n",
              "      <td>17975</td>\n",
              "      <td>F</td>\n",
              "      <td>50</td>\n",
              "      <td>4.7</td>\n",
              "      <td>46</td>\n",
              "      <td>4.9</td>\n",
              "      <td>4.2</td>\n",
              "      <td>0.9</td>\n",
              "      <td>2.4</td>\n",
              "      <td>1.4</td>\n",
              "      <td>0.5</td>\n",
              "      <td>24.0</td>\n",
              "      <td>0</td>\n",
              "    </tr>\n",
              "    <tr>\n",
              "      <th>1</th>\n",
              "      <td>735</td>\n",
              "      <td>34221</td>\n",
              "      <td>M</td>\n",
              "      <td>26</td>\n",
              "      <td>4.5</td>\n",
              "      <td>62</td>\n",
              "      <td>4.9</td>\n",
              "      <td>3.7</td>\n",
              "      <td>1.4</td>\n",
              "      <td>1.1</td>\n",
              "      <td>2.1</td>\n",
              "      <td>0.6</td>\n",
              "      <td>23.0</td>\n",
              "      <td>0</td>\n",
              "    </tr>\n",
              "    <tr>\n",
              "      <th>2</th>\n",
              "      <td>420</td>\n",
              "      <td>47975</td>\n",
              "      <td>F</td>\n",
              "      <td>50</td>\n",
              "      <td>4.7</td>\n",
              "      <td>46</td>\n",
              "      <td>4.9</td>\n",
              "      <td>4.2</td>\n",
              "      <td>0.9</td>\n",
              "      <td>2.4</td>\n",
              "      <td>1.4</td>\n",
              "      <td>0.5</td>\n",
              "      <td>24.0</td>\n",
              "      <td>0</td>\n",
              "    </tr>\n",
              "    <tr>\n",
              "      <th>3</th>\n",
              "      <td>680</td>\n",
              "      <td>87656</td>\n",
              "      <td>F</td>\n",
              "      <td>50</td>\n",
              "      <td>4.7</td>\n",
              "      <td>46</td>\n",
              "      <td>4.9</td>\n",
              "      <td>4.2</td>\n",
              "      <td>0.9</td>\n",
              "      <td>2.4</td>\n",
              "      <td>1.4</td>\n",
              "      <td>0.5</td>\n",
              "      <td>24.0</td>\n",
              "      <td>0</td>\n",
              "    </tr>\n",
              "    <tr>\n",
              "      <th>4</th>\n",
              "      <td>504</td>\n",
              "      <td>34223</td>\n",
              "      <td>M</td>\n",
              "      <td>33</td>\n",
              "      <td>7.1</td>\n",
              "      <td>46</td>\n",
              "      <td>4.9</td>\n",
              "      <td>4.9</td>\n",
              "      <td>1.0</td>\n",
              "      <td>0.8</td>\n",
              "      <td>2.0</td>\n",
              "      <td>0.4</td>\n",
              "      <td>21.0</td>\n",
              "      <td>0</td>\n",
              "    </tr>\n",
              "    <tr>\n",
              "      <th>...</th>\n",
              "      <td>...</td>\n",
              "      <td>...</td>\n",
              "      <td>...</td>\n",
              "      <td>...</td>\n",
              "      <td>...</td>\n",
              "      <td>...</td>\n",
              "      <td>...</td>\n",
              "      <td>...</td>\n",
              "      <td>...</td>\n",
              "      <td>...</td>\n",
              "      <td>...</td>\n",
              "      <td>...</td>\n",
              "      <td>...</td>\n",
              "      <td>...</td>\n",
              "    </tr>\n",
              "    <tr>\n",
              "      <th>995</th>\n",
              "      <td>200</td>\n",
              "      <td>454317</td>\n",
              "      <td>M</td>\n",
              "      <td>71</td>\n",
              "      <td>11.0</td>\n",
              "      <td>97</td>\n",
              "      <td>7.0</td>\n",
              "      <td>7.5</td>\n",
              "      <td>1.7</td>\n",
              "      <td>1.2</td>\n",
              "      <td>1.8</td>\n",
              "      <td>0.6</td>\n",
              "      <td>30.0</td>\n",
              "      <td>1</td>\n",
              "    </tr>\n",
              "    <tr>\n",
              "      <th>996</th>\n",
              "      <td>671</td>\n",
              "      <td>876534</td>\n",
              "      <td>M</td>\n",
              "      <td>31</td>\n",
              "      <td>3.0</td>\n",
              "      <td>60</td>\n",
              "      <td>12.3</td>\n",
              "      <td>4.1</td>\n",
              "      <td>2.2</td>\n",
              "      <td>0.7</td>\n",
              "      <td>2.4</td>\n",
              "      <td>15.4</td>\n",
              "      <td>37.2</td>\n",
              "      <td>1</td>\n",
              "    </tr>\n",
              "    <tr>\n",
              "      <th>997</th>\n",
              "      <td>669</td>\n",
              "      <td>87654</td>\n",
              "      <td>M</td>\n",
              "      <td>30</td>\n",
              "      <td>7.1</td>\n",
              "      <td>81</td>\n",
              "      <td>6.7</td>\n",
              "      <td>4.1</td>\n",
              "      <td>1.1</td>\n",
              "      <td>1.2</td>\n",
              "      <td>2.4</td>\n",
              "      <td>8.1</td>\n",
              "      <td>27.4</td>\n",
              "      <td>1</td>\n",
              "    </tr>\n",
              "    <tr>\n",
              "      <th>998</th>\n",
              "      <td>99</td>\n",
              "      <td>24004</td>\n",
              "      <td>M</td>\n",
              "      <td>38</td>\n",
              "      <td>5.8</td>\n",
              "      <td>59</td>\n",
              "      <td>6.7</td>\n",
              "      <td>5.3</td>\n",
              "      <td>2.0</td>\n",
              "      <td>1.6</td>\n",
              "      <td>2.9</td>\n",
              "      <td>14.0</td>\n",
              "      <td>40.5</td>\n",
              "      <td>1</td>\n",
              "    </tr>\n",
              "    <tr>\n",
              "      <th>999</th>\n",
              "      <td>248</td>\n",
              "      <td>24054</td>\n",
              "      <td>M</td>\n",
              "      <td>54</td>\n",
              "      <td>5.0</td>\n",
              "      <td>67</td>\n",
              "      <td>6.9</td>\n",
              "      <td>3.8</td>\n",
              "      <td>1.7</td>\n",
              "      <td>1.1</td>\n",
              "      <td>3.0</td>\n",
              "      <td>0.7</td>\n",
              "      <td>33.0</td>\n",
              "      <td>1</td>\n",
              "    </tr>\n",
              "  </tbody>\n",
              "</table>\n",
              "<p>1000 rows × 14 columns</p>\n",
              "</div>"
            ],
            "text/plain": [
              "      ID  No_Pation Gender  AGE  Urea  Cr  ...   TG  HDL  LDL  VLDL   BMI  CLASS\n",
              "0    502      17975      F   50   4.7  46  ...  0.9  2.4  1.4   0.5  24.0      0\n",
              "1    735      34221      M   26   4.5  62  ...  1.4  1.1  2.1   0.6  23.0      0\n",
              "2    420      47975      F   50   4.7  46  ...  0.9  2.4  1.4   0.5  24.0      0\n",
              "3    680      87656      F   50   4.7  46  ...  0.9  2.4  1.4   0.5  24.0      0\n",
              "4    504      34223      M   33   7.1  46  ...  1.0  0.8  2.0   0.4  21.0      0\n",
              "..   ...        ...    ...  ...   ...  ..  ...  ...  ...  ...   ...   ...    ...\n",
              "995  200     454317      M   71  11.0  97  ...  1.7  1.2  1.8   0.6  30.0      1\n",
              "996  671     876534      M   31   3.0  60  ...  2.2  0.7  2.4  15.4  37.2      1\n",
              "997  669      87654      M   30   7.1  81  ...  1.1  1.2  2.4   8.1  27.4      1\n",
              "998   99      24004      M   38   5.8  59  ...  2.0  1.6  2.9  14.0  40.5      1\n",
              "999  248      24054      M   54   5.0  67  ...  1.7  1.1  3.0   0.7  33.0      1\n",
              "\n",
              "[1000 rows x 14 columns]"
            ]
          },
          "metadata": {
            "tags": []
          },
          "execution_count": 6
        }
      ]
    },
    {
      "cell_type": "code",
      "metadata": {
        "id": "0KlAkq3dqHa3"
      },
      "source": [
        "gen_enc = LabelEncoder()\n",
        "cls_enc = LabelEncoder()"
      ],
      "execution_count": null,
      "outputs": []
    },
    {
      "cell_type": "code",
      "metadata": {
        "id": "cQNjSlSNqLnl"
      },
      "source": [
        "df['gen_new'] = gen_enc.fit_transform(df['Gender'])\n",
        "df['class_new'] = cls_enc.fit_transform(df['CLASS'])"
      ],
      "execution_count": null,
      "outputs": []
    },
    {
      "cell_type": "code",
      "metadata": {
        "colab": {
          "base_uri": "https://localhost:8080/"
        },
        "id": "tdjfU8OfqPrT",
        "outputId": "a9040ae2-8154-45b0-f269-079bb638774a"
      },
      "source": [
        "df.pop('CLASS')\n",
        "df.pop('Gender')\n",
        "df.pop('ID')"
      ],
      "execution_count": null,
      "outputs": [
        {
          "output_type": "execute_result",
          "data": {
            "text/plain": [
              "0      502\n",
              "1      735\n",
              "2      420\n",
              "3      680\n",
              "4      504\n",
              "      ... \n",
              "995    200\n",
              "996    671\n",
              "997    669\n",
              "998     99\n",
              "999    248\n",
              "Name: ID, Length: 1000, dtype: int64"
            ]
          },
          "metadata": {
            "tags": []
          },
          "execution_count": 9
        }
      ]
    },
    {
      "cell_type": "code",
      "metadata": {
        "colab": {
          "base_uri": "https://localhost:8080/"
        },
        "id": "M0Pw2sKhqT6g",
        "outputId": "fb63a278-9fce-42e9-a0c4-e5476550f3b8"
      },
      "source": [
        "y = df.pop('class_new')\n",
        "print(y)"
      ],
      "execution_count": null,
      "outputs": [
        {
          "output_type": "stream",
          "text": [
            "0      0\n",
            "1      0\n",
            "2      0\n",
            "3      0\n",
            "4      0\n",
            "      ..\n",
            "995    1\n",
            "996    1\n",
            "997    1\n",
            "998    1\n",
            "999    1\n",
            "Name: class_new, Length: 1000, dtype: int64\n"
          ],
          "name": "stdout"
        }
      ]
    },
    {
      "cell_type": "code",
      "metadata": {
        "colab": {
          "base_uri": "https://localhost:8080/"
        },
        "id": "Tjv2yn4HxBzW",
        "outputId": "93fc70c3-9b9c-4a52-d435-1ca00a24dcef"
      },
      "source": [
        "lr = LogisticRegression()\n",
        "params1 = {'penalty' : ['l1', 'l2'],\n",
        "           'tol' : [0.0002, 0.0003],'C' : [1.1, 1.2],'solver' : ['sag', 'saga', 'liblinear', 'newton-cg', 'lbfgs'],'multi_class' : ['auto', 'ovr']}\n",
        "clflr = GridSearchCV(estimator=lr,param_grid=params1,cv=6,n_jobs = -1)   \n",
        "clflr.fit(df,y) \n",
        "accuracy1 = clflr.best_score_\n",
        "clflr.best_params_       "
      ],
      "execution_count": null,
      "outputs": [
        {
          "output_type": "execute_result",
          "data": {
            "text/plain": [
              "{'C': 1.2,\n",
              " 'multi_class': 'ovr',\n",
              " 'penalty': 'l1',\n",
              " 'solver': 'liblinear',\n",
              " 'tol': 0.0003}"
            ]
          },
          "metadata": {
            "tags": []
          },
          "execution_count": 11
        }
      ]
    },
    {
      "cell_type": "code",
      "metadata": {
        "colab": {
          "base_uri": "https://localhost:8080/"
        },
        "id": "kZhwjkp2ky6o",
        "outputId": "e7541c72-fa7e-48a1-ceed-382d6f1a9900"
      },
      "source": [
        "knn = KNeighborsClassifier()\n",
        "params2 = {'n_neighbors': [1, 2, 3, 4, 5, 6, 7, 8, 9, 10, 11],\n",
        "        'algorithm' : ['auto','ball_tree', 'kd_tree', 'brute'],\n",
        "        'metric' : ['braycurtis','canberra','chebyshev','dice','hamming','jaccard', 'correlation','kulsinski','mahalanobis','minkowski','rogerstanimoto','russellrao', 'sokalmicheme','sokalsneath', 'seuclidean', 'sqeuclidean', 'yule']}\n",
        "clfknn = GridSearchCV(estimator=knn,param_grid=params2,cv=6,n_jobs = -1)\n",
        "clfknn.fit(df, y)\n",
        "accuracy2 = clfknn.best_score_\n",
        "clfknn.best_params_"
      ],
      "execution_count": null,
      "outputs": [
        {
          "output_type": "execute_result",
          "data": {
            "text/plain": [
              "{'algorithm': 'auto', 'metric': 'canberra', 'n_neighbors': 10}"
            ]
          },
          "metadata": {
            "tags": []
          },
          "execution_count": 21
        }
      ]
    },
    {
      "cell_type": "code",
      "metadata": {
        "colab": {
          "base_uri": "https://localhost:8080/"
        },
        "id": "Is9tJ2w9Vo3N",
        "outputId": "6f627e1f-e20a-4211-e442-dbece699b853"
      },
      "source": [
        "NN = MLPClassifier()\n",
        "paramsNN = {'hidden_layer_sizes': [1024,512,256,128,72,64,30,12,8],'activation': ['identity','logistic','tanh','relu'],\n",
        " 'solver': ['lbfgs','sgd','adam'],\n",
        " 'learning_rate': ['constant', 'invscaling', 'adaptive'],'max_iter' : [250,280,300]\n",
        " }\n",
        "clfNN = GridSearchCV(estimator=NN,param_grid=paramsNN,cv=6,n_jobs=-1)\n",
        "clfNN.fit(df, y)\n",
        "accuracy3 = clfNN.best_score_\n",
        "clfNN.best_params_"
      ],
      "execution_count": null,
      "outputs": [
        {
          "output_type": "execute_result",
          "data": {
            "text/plain": [
              "{'activation': 'tanh',\n",
              " 'hidden_layer_sizes': 64,\n",
              " 'learning_rate': 'adaptive',\n",
              " 'max_iter': 300,\n",
              " 'solver': 'lbfgs'}"
            ]
          },
          "metadata": {
            "tags": []
          },
          "execution_count": 9
        }
      ]
    },
    {
      "cell_type": "code",
      "metadata": {
        "colab": {
          "base_uri": "https://localhost:8080/"
        },
        "id": "PXMsBJ1oWqYv",
        "outputId": "d08630fb-2639-43a0-fc15-dbed93995ad2"
      },
      "source": [
        "DTC = DecisionTreeClassifier()\n",
        "paramsDTC = {'criterion': ['gini','entropy'],\n",
        " 'splitter': ['best','random'],\n",
        " 'max_features':['auto','sqrt','log2'],\n",
        " }\n",
        "clfDTC = GridSearchCV(estimator = DTC, param_grid=paramsDTC , cv=6, n_jobs= -1)\n",
        "clfDTC.fit(df, y)\n",
        "accuracy4 = clfDTC.best_score_\n",
        "clfDTC.best_params_"
      ],
      "execution_count": null,
      "outputs": [
        {
          "output_type": "execute_result",
          "data": {
            "text/plain": [
              "{'criterion': 'entropy', 'max_features': 'sqrt', 'splitter': 'best'}"
            ]
          },
          "metadata": {
            "tags": []
          },
          "execution_count": 11
        }
      ]
    },
    {
      "cell_type": "code",
      "metadata": {
        "colab": {
          "base_uri": "https://localhost:8080/"
        },
        "id": "HqISnJH9XPna",
        "outputId": "2ca8c850-def2-4af7-853a-ee8526d2ffff"
      },
      "source": [
        "RF = RandomForestClassifier()\n",
        "paramsRF = {'n_estimators' : [100,150,200,250,300,350],'criterion': ['gini','entropy'],'max_features' : ['auto', 'sqrt', 'log2']}\n",
        "clfRF = GridSearchCV(estimator = RF, param_grid=paramsRF , cv=6, n_jobs= -1)\n",
        "clfRF.fit(df, y)\n",
        "accuracy5 = clfRF.best_score_\n",
        "clfRF.best_params_\n"
      ],
      "execution_count": null,
      "outputs": [
        {
          "output_type": "execute_result",
          "data": {
            "text/plain": [
              "{'criterion': 'entropy', 'max_features': 'log2', 'n_estimators': 100}"
            ]
          },
          "metadata": {
            "tags": []
          },
          "execution_count": 12
        }
      ]
    },
    {
      "cell_type": "code",
      "metadata": {
        "colab": {
          "base_uri": "https://localhost:8080/"
        },
        "id": "1yFCMCx7Yxlm",
        "outputId": "813c2332-3ee4-4a8a-c67d-0fa86e90ed7b"
      },
      "source": [
        "adb = AdaBoostClassifier()\n",
        "paramsADB = {'algorithm': ['SAMME','SAMME.R'],\n",
        " 'learning_rate': [1,0.8,0.5,0.1]}\n",
        "clfADB = GridSearchCV(estimator = adb,param_grid=paramsADB, cv=6,n_jobs = -1)\n",
        "clfADB.fit(df, y)\n",
        "accuracy6 = clfADB.best_score_\n",
        "clfADB.best_params_"
      ],
      "execution_count": null,
      "outputs": [
        {
          "output_type": "execute_result",
          "data": {
            "text/plain": [
              "{'algorithm': 'SAMME', 'learning_rate': 0.1}"
            ]
          },
          "metadata": {
            "tags": []
          },
          "execution_count": 13
        }
      ]
    },
    {
      "cell_type": "code",
      "metadata": {
        "colab": {
          "base_uri": "https://localhost:8080/"
        },
        "id": "OzRTP1g7Z_-m",
        "outputId": "8ae0dc9e-bccb-4ddb-8a0d-a2e675e433f9"
      },
      "source": [
        "XGB = XGBClassifier()\n",
        "paramsXGB = {'loss' : ['deviance', 'exponential'],'learning_rate' : [0.01,0.03,0.05,0.08,0.01,0.05,0.09,1.0],'n_estimators' : [100,150,200,250,300,350,500,800],'max_feature' : ['auto', 'sqrt', 'log2']}\n",
        "clfXGB = GridSearchCV(estimator = XGB, param_grid=paramsXGB, cv=6,n_jobs = -1)\n",
        "clfXGB.fit(df, y)\n",
        "accuracy7 = clfXGB.best_score_\n",
        "clfXGB.best_params_"
      ],
      "execution_count": null,
      "outputs": [
        {
          "output_type": "execute_result",
          "data": {
            "text/plain": [
              "{'learning_rate': 0.09,\n",
              " 'loss': 'deviance',\n",
              " 'max_feature': 'auto',\n",
              " 'n_estimators': 200}"
            ]
          },
          "metadata": {
            "tags": []
          },
          "execution_count": 14
        }
      ]
    },
    {
      "cell_type": "code",
      "metadata": {
        "colab": {
          "base_uri": "https://localhost:8080/"
        },
        "id": "thdo8ROumdNJ",
        "outputId": "120a98b0-5c18-41af-eaab-2ffea481272a"
      },
      "source": [
        "NB = GaussianNB()\n",
        "paramsNB = {'var_smoothing' : [1e-9,1e-10,1e-11,1e-15,1e-40,1e-50,1e-60,1e-100]}\n",
        "clfNB = GridSearchCV(estimator = NB, param_grid=paramsNB, cv=6,n_jobs = -1)\n",
        "clfNB.fit(df, y)\n",
        "accuracy8 = clfNB.best_score_\n",
        "clfNB.best_params_"
      ],
      "execution_count": null,
      "outputs": [
        {
          "output_type": "execute_result",
          "data": {
            "text/plain": [
              "{'var_smoothing': 1e-15}"
            ]
          },
          "metadata": {
            "tags": []
          },
          "execution_count": 15
        }
      ]
    },
    {
      "cell_type": "code",
      "metadata": {
        "id": "FVn1fnB2i6yK"
      },
      "source": [
        "lr = LogisticRegression(C=1.2,\n",
        " multi_class='ovr',\n",
        " penalty='l1',\n",
        " solver='liblinear',\n",
        " tol=0.0002)\n",
        "\n",
        "knn = KNeighborsClassifier(algorithm='auto', metric='canberra', n_neighbors=10)\n",
        "\n",
        "RF = RandomForestClassifier(criterion='entropy', max_features='log2', n_estimators=100)\n",
        "\n",
        "NB = GaussianNB(priors = None , var_smoothing=1e-15)\n",
        "\n",
        "NN = MLPClassifier(activation='tanh',\n",
        " hidden_layer_sizes=64,\n",
        " learning_rate='adaptive',\n",
        " max_iter=300)\n",
        "\n",
        "DTC = DecisionTreeClassifier(max_depth=5,criterion='entropy', max_features='sqrt',splitter='best')\n",
        "\n",
        "adb = AdaBoostClassifier(algorithm='SAMME', learning_rate=0.1)\n",
        "\n",
        "XGB = XGBClassifier(learning_rate=0.09,\n",
        " loss='deviance',\n",
        " max_feature='auto',\n",
        " n_estimators=200)\n",
        "\n",
        "LGBM = LGBMClassifier()\n",
        "\n",
        "\n",
        "LG =  LGBMClassifier()\n",
        "NB = GaussianNB(priors = None , var_smoothing=1e-15)\n",
        "sclf = StackingClassifier(classifiers=[lr,knn,RF,NB,NN,DTC,adb,XGB], \n",
        "                          use_probas=True,\n",
        "                          meta_classifier=LG)"
      ],
      "execution_count": null,
      "outputs": []
    },
    {
      "cell_type": "code",
      "metadata": {
        "colab": {
          "base_uri": "https://localhost:8080/"
        },
        "id": "siYxqi-fjQH1",
        "outputId": "cd9fffbf-51fe-4621-8ebe-78b235e758f2"
      },
      "source": [
        "print('6-fold cross validation:\\n')\n",
        "accuracy=[0]*10\n",
        "i=0\n",
        "for clf, label in zip([lr,knn,RF,NB,NN,DTC,adb,XGB,LGBM,sclf], \n",
        "                      ['Logistics Regression',\n",
        "                       'KNN', \n",
        "                       'Random Forest', \n",
        "                       'Naive Bayes',\n",
        "                       'Neural network',\n",
        "                       'Decision Tree Classifier',\n",
        "                       'AdaBoost Classifier',\n",
        "                       'XG Boost',\n",
        "                       'LGBM',\n",
        "                       'stacking classifier'\n",
        "                      ]):\n",
        "  \n",
        "    scores = model_selection.cross_val_score(clf, df, y, \n",
        "                                              cv=6)\n",
        "    print(\"F1 Scores: %0.2f (+/- %0.2f) [%s]\" \n",
        "          % (scores.mean(), scores.std(), label))\n",
        "    accuracy[i]=scores.mean()\n",
        "    i=i+1\n",
        "    "
      ],
      "execution_count": null,
      "outputs": [
        {
          "output_type": "stream",
          "text": [
            "6-fold cross validation:\n",
            "\n",
            "F1 Scores: 0.90 (+/- 0.06) [Logistics Regression]\n",
            "F1 Scores: 0.92 (+/- 0.03) [KNN]\n",
            "F1 Scores: 0.95 (+/- 0.07) [Random Forest]\n",
            "F1 Scores: 0.91 (+/- 0.08) [Naive Bayes]\n",
            "F1 Scores: 0.84 (+/- 0.00) [Neural network]\n",
            "F1 Scores: 0.93 (+/- 0.06) [Decision Tree Classifier]\n",
            "F1 Scores: 0.96 (+/- 0.07) [AdaBoost Classifier]\n",
            "F1 Scores: 0.96 (+/- 0.07) [XG Boost]\n",
            "F1 Scores: 0.95 (+/- 0.07) [LGBM]\n",
            "F1 Scores: 0.95 (+/- 0.07) [stacking classifier]\n"
          ],
          "name": "stdout"
        }
      ]
    },
    {
      "cell_type": "code",
      "metadata": {
        "colab": {
          "base_uri": "https://localhost:8080/",
          "height": 296
        },
        "id": "Wth6S9xje2l5",
        "outputId": "f2cd7f8f-ebc9-4527-da27-e62dfa41669a"
      },
      "source": [
        "import matplotlib.pyplot as plt\n",
        "fig = plt.figure()\n",
        "ax = fig.add_axes([0,0,3,1])\n",
        "classifier = ['Logistics Regression',\n",
        "                       'KNN', \n",
        "                       'Random Forest', \n",
        "                       'Naive Bayes',\n",
        "                       'Neural network',\n",
        "                       'Decision Tree Classifier',\n",
        "                       'AdaBoost Classifier',\n",
        "                       'XG Boost',\n",
        "                       'LGBM',\n",
        "                       'stacking classifier']\n",
        "\n",
        "ax.bar(classifier,accuracy)\n",
        "plt.show()"
      ],
      "execution_count": null,
      "outputs": [
        {
          "output_type": "display_data",
          "data": {
            "image/png": "[encoded data removed]",
            "text/plain": [
              "<Figure size 432x288 with 1 Axes>"
            ]
          },
          "metadata": {
            "tags": [],
            "needs_background": "light"
          }
        }
      ]
    }
  ]
}